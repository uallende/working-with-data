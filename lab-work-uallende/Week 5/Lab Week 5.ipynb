{
 "cells": [
  {
   "cell_type": "markdown",
   "metadata": {},
   "source": [
    "# Ted Talks\n",
    "\n",
    "This dataset has been adapted from the Kaggle [Ted Talks Dataset](https://www.kaggle.com/rounakbanik/ted-talks).  A full dataset description is available at the website.\n",
    "\n",
    "\n",
    "## Context\n",
    "These datasets contain information about all audio-video recordings of TED Talks uploaded to the official TED.com website until September 21st, 2017. The TED main dataset contains information about all talks including number of views, number of comments, descriptions, speakers and titles. The TED transcripts dataset contains the transcripts for all talks available on TED.com.\n",
    "\n",
    "## Data Description\n",
    "\n",
    "### ted.csv\n",
    "\n",
    "*comments*\n",
    "The number of first level comments made on the talk\n",
    "\n",
    "*description*\n",
    "A blurb of what the talk is about\n",
    "\n",
    "*duration*\n",
    "The duration of the talk in seconds\n",
    "\n",
    "*event*\n",
    "The TED/TEDx event where the talk took place\n",
    "\n",
    "*film_date*\n",
    "The Unix timestamp of the filming\n",
    "\n",
    "*languages*\n",
    "The number of languages in which the talk is available\n",
    "\n",
    "*main_speaker*\n",
    "The first named speaker of the talk\n",
    "\n",
    "*name*\n",
    "The official name of the TED Talk. Includes the title and the speaker.\n",
    "\n",
    "*num_speaker*\n",
    "The number of speakers in the talk\n",
    "\n",
    "*published_date*\n",
    "The Unix timestamp for the publication of the talk on TED.com\n",
    "\n",
    "*speaker_occupation*\n",
    "The occupation of the main speaker\n",
    "\n",
    "*title*\n",
    "The title of the talk\n",
    "\n",
    "*url*\n",
    "The URL of the talk\n",
    "\n",
    "*views*\n",
    "The number of views of the talk\n",
    "\n",
    "### ratings.csv\n",
    "\n",
    "A lookup table for ratings\n",
    "\n",
    "*id*\n",
    "The ID of the rating\n",
    "\n",
    "*rating*\n",
    "Rating description in English\n",
    "\n",
    "### talk_ratings.csv\n",
    "\n",
    "*id*\n",
    "Rating ID (corresponds with the ID in *ratings.csv*\n",
    "\n",
    "*title*\n",
    "Title of the talk\n",
    "\n",
    "*count*\n",
    "The number of times this talk was awarded given this rating\n",
    "\n",
    "### ted_tags.csv\n",
    "\n",
    "*title*\n",
    "Title of the talk\n",
    "\n",
    "*tag*\n",
    "Descriptive tag applied to the talk"
   ]
  },
  {
   "cell_type": "markdown",
   "metadata": {},
   "source": [
    "1. Load the Ted Talks dataset (ted.csv)"
   ]
  },
  {
   "cell_type": "code",
   "execution_count": null,
   "metadata": {},
   "outputs": [],
   "source": []
  },
  {
   "cell_type": "markdown",
   "metadata": {},
   "source": [
    "2. How many speakers from each occupation have been appeared on a Ted Talk? What are the top 5 most popular occupations?"
   ]
  },
  {
   "cell_type": "code",
   "execution_count": null,
   "metadata": {},
   "outputs": [],
   "source": []
  },
  {
   "cell_type": "markdown",
   "metadata": {},
   "source": [
    "3. Create two subsets of the data the talks into 2 groups, popular (top 25% of views) and niche (< top 25% of views)"
   ]
  },
  {
   "cell_type": "code",
   "execution_count": null,
   "metadata": {},
   "outputs": [],
   "source": []
  },
  {
   "cell_type": "markdown",
   "metadata": {},
   "source": [
    "4. Load the ted tags data (ted_tags.csv)"
   ]
  },
  {
   "cell_type": "code",
   "execution_count": null,
   "metadata": {},
   "outputs": [],
   "source": []
  },
  {
   "cell_type": "markdown",
   "metadata": {},
   "source": [
    "5. Count the number of rows in your main dataset, create a copy of your dataset and join in with the tags. How many rows do you have now? Why?"
   ]
  },
  {
   "cell_type": "code",
   "execution_count": null,
   "metadata": {},
   "outputs": [],
   "source": []
  },
  {
   "cell_type": "markdown",
   "metadata": {},
   "source": [
    "6. Are there any talks which don't have a corresponding entry in ted tags"
   ]
  },
  {
   "cell_type": "code",
   "execution_count": null,
   "metadata": {},
   "outputs": [],
   "source": []
  },
  {
   "cell_type": "markdown",
   "metadata": {},
   "source": [
    "7. Which is the most popular tag"
   ]
  },
  {
   "cell_type": "code",
   "execution_count": null,
   "metadata": {},
   "outputs": [],
   "source": []
  },
  {
   "cell_type": "markdown",
   "metadata": {},
   "source": [
    "8. Calculate each event's percentage contribution to the total number of talks"
   ]
  },
  {
   "cell_type": "code",
   "execution_count": null,
   "metadata": {},
   "outputs": [],
   "source": []
  }
 ],
 "metadata": {
  "kernelspec": {
   "display_name": "R",
   "language": "R",
   "name": "ir"
  },
  "language_info": {
   "codemirror_mode": "r",
   "file_extension": ".r",
   "mimetype": "text/x-r-source",
   "name": "R",
   "pygments_lexer": "r",
   "version": "4.0.3"
  }
 },
 "nbformat": 4,
 "nbformat_minor": 4
}
