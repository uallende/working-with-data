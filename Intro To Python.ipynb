{
 "cells": [
  {
   "cell_type": "markdown",
   "metadata": {},
   "source": [
    "# Python Introduction\n",
    "\n",
    "Python is an extremely versatile, easy-to-read scripting language which is particularly popular in the world of data science. Whereas *R* is an excellent language for working interactively with data and generating visualizations; python excels at more advanced data processing techniques.\n",
    "\n",
    "This very brief introduction to Python will go through the basics of the language. You can highlight and run cells to see what output they generate. You can also edit the code and re-run it if you'd like to experiment yourself. "
   ]
  },
  {
   "cell_type": "markdown",
   "metadata": {},
   "source": [
    "## Working with Variables\n",
    "\n",
    "Python is a **dynamically typed** language. It does understand the difference between strings and numbers, but unlike many object-oriented languages you don't have to *declare* the type of the variable. The python engine will work it out for you."
   ]
  },
  {
   "cell_type": "code",
   "execution_count": 1,
   "metadata": {},
   "outputs": [
    {
     "name": "stdout",
     "output_type": "stream",
     "text": [
      "Michael D. Higgins\n",
      "age in months: \n",
      "948\n"
     ]
    }
   ],
   "source": [
    "\n",
    "first_name = 'Michael'\n",
    "initial = 'D.'\n",
    "last_name = 'Higgins'\n",
    "\n",
    "# adding strings together joins them into one single string\n",
    "print(first_name + \" \" + initial + \" \" + last_name)\n",
    "\n",
    "# This is a bit of a questionable way of calculating age in months, but how or never...\n",
    "age_in_years = 79\n",
    "months_in_year = 12\n",
    "age_in_months = age_in_years * months_in_year\n",
    "print('age in months: ')\n",
    "print(age_in_months)\n"
   ]
  },
  {
   "cell_type": "code",
   "execution_count": 2,
   "metadata": {},
   "outputs": [
    {
     "name": "stdout",
     "output_type": "stream",
     "text": [
      "180.5918991633804\n",
      "The population density of Rep. Ireland is roughly 181 per square mile\n"
     ]
    }
   ],
   "source": [
    "population_republic_ireland = 4900000 # or thereabouts\n",
    "square_miles_republic_ireland = 27133\n",
    "\n",
    "population_density = population_republic_ireland / square_miles_republic_ireland\n",
    "\n",
    "print(population_density)\n",
    "\n",
    "# If we want to add a number to a string we need to convert it using str()\n",
    "print(\"The population density of Rep. Ireland is roughly \" + str(round(population_density)) + \" per square mile\")"
   ]
  },
  {
   "cell_type": "markdown",
   "metadata": {},
   "source": [
    "## Flow Control\n",
    "\n",
    "Unlike many programming languages, Python doesn't use curly braces { } for if statements. Instead it uses indentation. An if statement ends with a colon, and everything inside the code block is indented by 4 spaces (or 1 tab). This is one of my least favourite things about Python; it can bite you if you're not careful!"
   ]
  },
  {
   "cell_type": "code",
   "execution_count": 3,
   "metadata": {},
   "outputs": [
    {
     "name": "stdout",
     "output_type": "stream",
     "text": [
      "I'll do it\n"
     ]
    }
   ],
   "source": [
    "what_for = 'love'\n",
    "thing = 'anything'\n",
    "\n",
    "if what_for == 'love':\n",
    "    if thing == 'anything':\n",
    "        print(\"I'll do it\")\n",
    "    elif thing == 'that':\n",
    "        print(\"I won't do it\")\n",
    "    else:\n",
    "        print(\"I might do it\")\n",
    "else:\n",
    "    print(\"I might do it (but not for love)\")\n"
   ]
  },
  {
   "cell_type": "code",
   "execution_count": 4,
   "metadata": {},
   "outputs": [
    {
     "name": "stdout",
     "output_type": "stream",
     "text": [
      "Everybody get up, singing...\n",
      "1\n",
      "2\n",
      "3\n",
      "4\n",
      "5\n",
      "Will make you get down now\n"
     ]
    }
   ],
   "source": [
    "count = 1\n",
    "\n",
    "print(\"Everybody get up, singing...\")\n",
    "\n",
    "while count < 6:\n",
    "    print(count)\n",
    "    count = count + 1\n",
    "\n",
    "print(\"Will make you get down now\")"
   ]
  },
  {
   "cell_type": "code",
   "execution_count": 5,
   "metadata": {},
   "outputs": [
    {
     "name": "stdout",
     "output_type": "stream",
     "text": [
      "all about that bass\n",
      "'bout that bass\n",
      "no treble\n"
     ]
    }
   ],
   "source": [
    "frequencies = ['bass', 'mid', 'treble']\n",
    "\n",
    "for frequency in frequencies:\n",
    "    if frequency == 'bass':\n",
    "        print('all about that ' + frequency)\n",
    "        print(\"'bout that \" + frequency)\n",
    "    elif frequency == 'treble':\n",
    "        print('no ' + frequency)"
   ]
  },
  {
   "cell_type": "markdown",
   "metadata": {},
   "source": [
    "## Lists\n",
    "\n",
    "Python lists are similar to arrays in Java or C#. A list can contain more than one value. Each value can be of a different type (though there's not usually a good reason to have this). We write lists in Python using square brackets.\n",
    "\n",
    "We can work our way through a list one item at a time using Python's **for** loop"
   ]
  },
  {
   "cell_type": "code",
   "execution_count": 6,
   "metadata": {},
   "outputs": [
    {
     "name": "stdout",
     "output_type": "stream",
     "text": [
      "never gonna give you up\n",
      "never gonna let you down\n",
      "never gonna run around and desert you\n",
      "never gonna make you cry\n",
      "never gonna say goodbye\n",
      "never gonna tell a lie and hurt you\n"
     ]
    }
   ],
   "source": [
    "things_rick_wont_do = ['give you up', 'let you down', 'run around and desert you', 'make you cry', 'say goodbye', 'tell a lie and hurt you']\n",
    "\n",
    "for thing in things_rick_wont_do:\n",
    "    print('never gonna ' + thing)"
   ]
  },
  {
   "cell_type": "markdown",
   "metadata": {},
   "source": [
    "### Indexing\n",
    "We can also access individual list items using their **index**. The index is the position of the item in the list (starting from 0)."
   ]
  },
  {
   "cell_type": "code",
   "execution_count": 7,
   "metadata": {},
   "outputs": [
    {
     "name": "stdout",
     "output_type": "stream",
     "text": [
      "the first thing Rick won't do is... give you up\n",
      "the third thing Rick won't do is... run around and desert you\n"
     ]
    }
   ],
   "source": [
    "first_thing_rick_wont_do = things_rick_wont_do[0]\n",
    "\n",
    "print(\"the first thing Rick won't do is... \" + first_thing_rick_wont_do)\n",
    "\n",
    "third_thing_rick_wont_do = things_rick_wont_do[2]\n",
    "\n",
    "print(\"the third thing Rick won't do is... \" + third_thing_rick_wont_do)"
   ]
  },
  {
   "cell_type": "markdown",
   "metadata": {},
   "source": [
    "If we use a negative number as the index then Python will count back from the end of the list. The last item in the list is -1, the second-last is -2 etc."
   ]
  },
  {
   "cell_type": "code",
   "execution_count": 8,
   "metadata": {},
   "outputs": [
    {
     "name": "stdout",
     "output_type": "stream",
     "text": [
      "the last thing Rick won't do is... tell a lie and hurt you\n"
     ]
    }
   ],
   "source": [
    "last_thing_rick_wont_do = things_rick_wont_do[-1]\n",
    "\n",
    "print(\"the last thing Rick won't do is... \" + last_thing_rick_wont_do)"
   ]
  },
  {
   "cell_type": "markdown",
   "metadata": {},
   "source": [
    "### List Slices\n",
    "We can grab a whole *chunk* of a list using list slices. The colon operator lets us take everything between a start and an end index (the start index is **inclusive** while the end index is **exclusive**"
   ]
  },
  {
   "cell_type": "code",
   "execution_count": 9,
   "metadata": {},
   "outputs": [
    {
     "data": {
      "text/plain": [
       "['make you cry', 'say goodbye', 'tell a lie and hurt you']"
      ]
     },
     "execution_count": 9,
     "metadata": {},
     "output_type": "execute_result"
    }
   ],
   "source": [
    "things_rick_wont_do[0:3] # items 0 - 2\n",
    "things_rick_wont_do[0:-1] # everything but the last\n",
    "\n",
    "things_rick_wont_do[3:] # If we leave the second index blank it takes everything up to the end of hte list"
   ]
  },
  {
   "cell_type": "markdown",
   "metadata": {},
   "source": [
    "### Testing for Inclusion\n",
    "\n",
    "Often we'll want to check if a list contains a value. In lots of languages we'd need to write our own custom code to do this, but Python makes it easy for us. We can use the Python keyword **in** to check if a value is in a list\n"
   ]
  },
  {
   "cell_type": "code",
   "execution_count": 10,
   "metadata": {},
   "outputs": [
    {
     "name": "stdout",
     "output_type": "stream",
     "text": [
      "fight!\n"
     ]
    }
   ],
   "source": [
    "rights = [\"life\", \"liberty\", \"security of person\"]\n",
    "\n",
    "if \"party\" in rights:\n",
    "    print(\"nothing to do\")\n",
    "else:\n",
    "    print(\"fight!\")\n",
    "    "
   ]
  },
  {
   "cell_type": "markdown",
   "metadata": {},
   "source": [
    "## Python Packages\n",
    "\n",
    "One of Python's biggest advantages in the area of data science is the huge number of high-quality user-contributed packages. A package gives you extra functionality, and will make your life as a data scientist so much easier.\n",
    "\n",
    "If you want to use a package you'll first need to install it using **pip**. Pip is Python's package manager and it stands for *Pip Installs Packages*. You can't install packages from inside a Python script; to do so, you need to open a terminal and run the command\n",
    "\n",
    "```bash\n",
    "pip install <package_name>\n",
    "```\n",
    "\n",
    "For example, to install the *pandas* package for working with data-frames in Python you would run\n",
    "\n",
    "```bash\n",
    "pip install pandas\n",
    "```\n",
    "\n",
    "We're using Jupyter notebook, and Jupyter notebook lets you run a terminal command by prefixing it with the % character. The following cell will install the pandas package for you. Make sure you check the output of the command; you may need to restart the kernel before you can use the package (see the **Kernel** menu item above)"
   ]
  },
  {
   "cell_type": "code",
   "execution_count": 11,
   "metadata": {},
   "outputs": [
    {
     "name": "stdout",
     "output_type": "stream",
     "text": [
      "Requirement already satisfied: pandas in /usr/local/lib/python3.7/site-packages (0.25.1)\n",
      "Requirement already satisfied: pytz>=2017.2 in /usr/local/lib/python3.7/site-packages (from pandas) (2019.3)\n",
      "Requirement already satisfied: numpy>=1.13.3 in /usr/local/lib/python3.7/site-packages (from pandas) (1.17.3)\n",
      "Requirement already satisfied: python-dateutil>=2.6.1 in /usr/local/lib/python3.7/site-packages (from pandas) (2.8.0)\n",
      "Requirement already satisfied: six>=1.5 in /usr/local/lib/python3.7/site-packages (from python-dateutil>=2.6.1->pandas) (1.12.0)\n",
      "Note: you may need to restart the kernel to use updated packages.\n"
     ]
    }
   ],
   "source": [
    "%pip install pandas"
   ]
  },
  {
   "cell_type": "markdown",
   "metadata": {},
   "source": [
    "Now that we've installed the package on our computer we need to **import** it to make it available to our script. When we import a package it gives us lots of extra functions we can call. We can call those functions using the module name\n",
    "\n",
    "```\n",
    "<module_name>.<function()>\n",
    "```\n",
    "\n",
    "For example, to call the pandas **read_csv()** function we would use\n",
    "\n",
    "\n",
    "```python\n",
    "pandas.read_csv()\n",
    "```\n",
    "\n",
    "Data scientists use the pandas package quite a lot, and why type 6 characters when you type 2? By convention we import pandas using an **alias**, a short name we can use when we want to reference the package in our script."
   ]
  },
  {
   "cell_type": "code",
   "execution_count": 12,
   "metadata": {},
   "outputs": [
    {
     "name": "stdout",
     "output_type": "stream",
     "text": [
      "0.25.1\n"
     ]
    }
   ],
   "source": [
    "import pandas as pd\n",
    "\n",
    "print(pd.__version__)"
   ]
  },
  {
   "cell_type": "code",
   "execution_count": null,
   "metadata": {},
   "outputs": [],
   "source": []
  }
 ],
 "metadata": {
  "kernelspec": {
   "display_name": "Python 3",
   "language": "python",
   "name": "python3"
  },
  "language_info": {
   "codemirror_mode": {
    "name": "ipython",
    "version": 3
   },
   "file_extension": ".py",
   "mimetype": "text/x-python",
   "name": "python",
   "nbconvert_exporter": "python",
   "pygments_lexer": "ipython3",
   "version": "3.7.7"
  }
 },
 "nbformat": 4,
 "nbformat_minor": 2
}
